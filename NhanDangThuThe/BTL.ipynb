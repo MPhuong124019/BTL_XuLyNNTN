{
 "cells": [
  {
   "cell_type": "code",
   "execution_count": 129,
   "metadata": {},
   "outputs": [],
   "source": [
    "import pandas as pd\n",
    "from underthesea import ner\n",
    "import string\n",
    "from sklearn.metrics import accuracy_score, precision_recall_fscore_support"
   ]
  },
  {
   "cell_type": "markdown",
   "metadata": {},
   "source": [
    "# 1. Đọc dữ liệu"
   ]
  },
  {
   "cell_type": "code",
   "execution_count": 146,
   "metadata": {},
   "outputs": [
    {
     "data": {
      "text/html": [
       "<div>\n",
       "<style scoped>\n",
       "    .dataframe tbody tr th:only-of-type {\n",
       "        vertical-align: middle;\n",
       "    }\n",
       "\n",
       "    .dataframe tbody tr th {\n",
       "        vertical-align: top;\n",
       "    }\n",
       "\n",
       "    .dataframe thead th {\n",
       "        text-align: right;\n",
       "    }\n",
       "</style>\n",
       "<table border=\"1\" class=\"dataframe\">\n",
       "  <thead>\n",
       "    <tr style=\"text-align: right;\">\n",
       "      <th></th>\n",
       "      <th>Column1</th>\n",
       "      <th>Column2</th>\n",
       "      <th>Column3</th>\n",
       "      <th>Column4</th>\n",
       "    </tr>\n",
       "  </thead>\n",
       "  <tbody>\n",
       "    <tr>\n",
       "      <th>0</th>\n",
       "      <td>Chị</td>\n",
       "      <td>Ns</td>\n",
       "      <td>B-NP</td>\n",
       "      <td>O</td>\n",
       "    </tr>\n",
       "    <tr>\n",
       "      <th>1</th>\n",
       "      <td>Minh</td>\n",
       "      <td>NNP</td>\n",
       "      <td>B-NP</td>\n",
       "      <td>B-PER</td>\n",
       "    </tr>\n",
       "    <tr>\n",
       "      <th>2</th>\n",
       "      <td>ôm</td>\n",
       "      <td>V</td>\n",
       "      <td>B-VP</td>\n",
       "      <td>O</td>\n",
       "    </tr>\n",
       "    <tr>\n",
       "      <th>3</th>\n",
       "      <td>đứa</td>\n",
       "      <td>Ns</td>\n",
       "      <td>B-NP</td>\n",
       "      <td>O</td>\n",
       "    </tr>\n",
       "    <tr>\n",
       "      <th>4</th>\n",
       "      <td>con_gái</td>\n",
       "      <td>N</td>\n",
       "      <td>B-NP</td>\n",
       "      <td>O</td>\n",
       "    </tr>\n",
       "  </tbody>\n",
       "</table>\n",
       "</div>"
      ],
      "text/plain": [
       "   Column1 Column2 Column3 Column4\n",
       "0      Chị      Ns    B-NP       O\n",
       "1     Minh     NNP    B-NP   B-PER\n",
       "2       ôm       V    B-VP       O\n",
       "3      đứa      Ns    B-NP       O\n",
       "4  con_gái       N    B-NP       O"
      ]
     },
     "execution_count": 146,
     "metadata": {},
     "output_type": "execute_result"
    }
   ],
   "source": [
    "data_test=pd.read_csv(\"/Users/maiphuong/Desktop/Nhóm 7/data/test.csv\").dropna()\n",
    "data_test.head()"
   ]
  },
  {
   "cell_type": "code",
   "execution_count": 147,
   "metadata": {},
   "outputs": [
    {
     "data": {
      "text/html": [
       "<div>\n",
       "<style scoped>\n",
       "    .dataframe tbody tr th:only-of-type {\n",
       "        vertical-align: middle;\n",
       "    }\n",
       "\n",
       "    .dataframe tbody tr th {\n",
       "        vertical-align: top;\n",
       "    }\n",
       "\n",
       "    .dataframe thead th {\n",
       "        text-align: right;\n",
       "    }\n",
       "</style>\n",
       "<table border=\"1\" class=\"dataframe\">\n",
       "  <thead>\n",
       "    <tr style=\"text-align: right;\">\n",
       "      <th></th>\n",
       "      <th>tokens</th>\n",
       "      <th>ner_tags</th>\n",
       "    </tr>\n",
       "  </thead>\n",
       "  <tbody>\n",
       "    <tr>\n",
       "      <th>0</th>\n",
       "      <td>[Chị, Minh, ôm, đứa, con_gái, mới, hơn, hai, t...</td>\n",
       "      <td>[B-NP, B-NP, B-VP, B-NP, B-NP, O, B-AP, B-NP, ...</td>\n",
       "    </tr>\n",
       "    <tr>\n",
       "      <th>1</th>\n",
       "      <td>[Từ, đôi, mắt, thâm_quầng, mệt_mỏi, ,, những, ...</td>\n",
       "      <td>[B-PP, B-NP, B-NP, B-AP, B-AP, O, B-NP, B-NP, ...</td>\n",
       "    </tr>\n",
       "    <tr>\n",
       "      <th>2</th>\n",
       "      <td>[Chỉ, riêng, xã, Cương_Gián, (, Hà_Tĩnh, ), đã...</td>\n",
       "      <td>[O, B-AP, B-NP, I-NP, O, B-NP, O, O, B-VP, B-N...</td>\n",
       "    </tr>\n",
       "    <tr>\n",
       "      <th>3</th>\n",
       "      <td>[Ở, Nghi_Hải, (, Nghệ_An, ), cũng, có, những, ...</td>\n",
       "      <td>[B-PP, B-NP, O, B-NP, O, O, B-VP, B-NP, B-NP, ...</td>\n",
       "    </tr>\n",
       "    <tr>\n",
       "      <th>4</th>\n",
       "      <td>[Chiều, cuối, thu, ,, trời, vùng_biển, Nghi_Xu...</td>\n",
       "      <td>[B-NP, B-NP, B-NP, O, B-NP, B-NP, B-NP, B-AP, O]</td>\n",
       "    </tr>\n",
       "  </tbody>\n",
       "</table>\n",
       "</div>"
      ],
      "text/plain": [
       "                                              tokens  \\\n",
       "0  [Chị, Minh, ôm, đứa, con_gái, mới, hơn, hai, t...   \n",
       "1  [Từ, đôi, mắt, thâm_quầng, mệt_mỏi, ,, những, ...   \n",
       "2  [Chỉ, riêng, xã, Cương_Gián, (, Hà_Tĩnh, ), đã...   \n",
       "3  [Ở, Nghi_Hải, (, Nghệ_An, ), cũng, có, những, ...   \n",
       "4  [Chiều, cuối, thu, ,, trời, vùng_biển, Nghi_Xu...   \n",
       "\n",
       "                                            ner_tags  \n",
       "0  [B-NP, B-NP, B-VP, B-NP, B-NP, O, B-AP, B-NP, ...  \n",
       "1  [B-PP, B-NP, B-NP, B-AP, B-AP, O, B-NP, B-NP, ...  \n",
       "2  [O, B-AP, B-NP, I-NP, O, B-NP, O, O, B-VP, B-N...  \n",
       "3  [B-PP, B-NP, O, B-NP, O, O, B-VP, B-NP, B-NP, ...  \n",
       "4   [B-NP, B-NP, B-NP, O, B-NP, B-NP, B-NP, B-AP, O]  "
      ]
     },
     "execution_count": 147,
     "metadata": {},
     "output_type": "execute_result"
    }
   ],
   "source": [
    "tokens_list = []\n",
    "ner_tags_list = []\n",
    "\n",
    "# Tách các câu và chuyển đổi dữ liệu\n",
    "tokens = []\n",
    "ner_tags = []\n",
    "\n",
    "for index, row in data_test.iterrows():\n",
    "    tokens.append(row['Column1'])\n",
    "    ner_tags.append(row['Column3'])\n",
    "\n",
    "    if row['Column1'] == '.':\n",
    "        tokens_list.append(tokens)\n",
    "        ner_tags_list.append(ner_tags)\n",
    "        tokens = []\n",
    "        ner_tags = []\n",
    "\n",
    "# Nếu còn từ trong danh sách mà chưa gặp dấu chấm, thêm câu vào danh sách\n",
    "if tokens:\n",
    "    tokens_list.append(tokens)\n",
    "    ner_tags_list.append(ner_tags)\n",
    "\n",
    "# Tạo DataFrame từ các câu đã tách\n",
    "data_processed = {\n",
    "    'tokens': tokens_list,\n",
    "    'ner_tags': ner_tags_list\n",
    "}\n",
    "\n",
    "df_test = pd.DataFrame(data_processed)\n",
    "df_test.head()"
   ]
  },
  {
   "cell_type": "code",
   "execution_count": 148,
   "metadata": {},
   "outputs": [
    {
     "data": {
      "text/html": [
       "<div>\n",
       "<style scoped>\n",
       "    .dataframe tbody tr th:only-of-type {\n",
       "        vertical-align: middle;\n",
       "    }\n",
       "\n",
       "    .dataframe tbody tr th {\n",
       "        vertical-align: top;\n",
       "    }\n",
       "\n",
       "    .dataframe thead th {\n",
       "        text-align: right;\n",
       "    }\n",
       "</style>\n",
       "<table border=\"1\" class=\"dataframe\">\n",
       "  <thead>\n",
       "    <tr style=\"text-align: right;\">\n",
       "      <th></th>\n",
       "      <th>Column1</th>\n",
       "      <th>Column2</th>\n",
       "      <th>Column3</th>\n",
       "      <th>Column4</th>\n",
       "    </tr>\n",
       "  </thead>\n",
       "  <tbody>\n",
       "    <tr>\n",
       "      <th>0</th>\n",
       "      <td>Đó</td>\n",
       "      <td>P</td>\n",
       "      <td>B-NP</td>\n",
       "      <td>O</td>\n",
       "    </tr>\n",
       "    <tr>\n",
       "      <th>1</th>\n",
       "      <td>là</td>\n",
       "      <td>V</td>\n",
       "      <td>B-VP</td>\n",
       "      <td>O</td>\n",
       "    </tr>\n",
       "    <tr>\n",
       "      <th>2</th>\n",
       "      <td>con</td>\n",
       "      <td>Nc</td>\n",
       "      <td>B-NP</td>\n",
       "      <td>O</td>\n",
       "    </tr>\n",
       "    <tr>\n",
       "      <th>3</th>\n",
       "      <td>đường</td>\n",
       "      <td>N</td>\n",
       "      <td>B-NP</td>\n",
       "      <td>O</td>\n",
       "    </tr>\n",
       "    <tr>\n",
       "      <th>4</th>\n",
       "      <td>biển</td>\n",
       "      <td>N</td>\n",
       "      <td>B-NP</td>\n",
       "      <td>O</td>\n",
       "    </tr>\n",
       "  </tbody>\n",
       "</table>\n",
       "</div>"
      ],
      "text/plain": [
       "  Column1 Column2 Column3 Column4\n",
       "0      Đó       P    B-NP       O\n",
       "1      là       V    B-VP       O\n",
       "2     con      Nc    B-NP       O\n",
       "3   đường       N    B-NP       O\n",
       "4    biển       N    B-NP       O"
      ]
     },
     "execution_count": 148,
     "metadata": {},
     "output_type": "execute_result"
    }
   ],
   "source": [
    "data_train=pd.read_csv(\"/Users/maiphuong/Desktop/Nhóm 7/data/train_saved (1).csv\").dropna()\n",
    "data_train.head()"
   ]
  },
  {
   "cell_type": "code",
   "execution_count": 149,
   "metadata": {},
   "outputs": [
    {
     "data": {
      "text/html": [
       "<div>\n",
       "<style scoped>\n",
       "    .dataframe tbody tr th:only-of-type {\n",
       "        vertical-align: middle;\n",
       "    }\n",
       "\n",
       "    .dataframe tbody tr th {\n",
       "        vertical-align: top;\n",
       "    }\n",
       "\n",
       "    .dataframe thead th {\n",
       "        text-align: right;\n",
       "    }\n",
       "</style>\n",
       "<table border=\"1\" class=\"dataframe\">\n",
       "  <thead>\n",
       "    <tr style=\"text-align: right;\">\n",
       "      <th></th>\n",
       "      <th>tokens</th>\n",
       "      <th>ner_tags</th>\n",
       "    </tr>\n",
       "  </thead>\n",
       "  <tbody>\n",
       "    <tr>\n",
       "      <th>0</th>\n",
       "      <td>[Đó, là, con, đường, biển, ngắn, nhất, để, đi,...</td>\n",
       "      <td>[B-NP, B-VP, B-NP, B-NP, B-NP, B-AP, B-AP, B-P...</td>\n",
       "    </tr>\n",
       "    <tr>\n",
       "      <th>1</th>\n",
       "      <td>[Một, chuyến, hải_trình, xuyên, ba, nước, Mala...</td>\n",
       "      <td>[B-NP, B-NP, B-NP, B-VP, B-NP, B-NP, B-NP, O, ...</td>\n",
       "    </tr>\n",
       "    <tr>\n",
       "      <th>2</th>\n",
       "      <td>[Ông, còn, nhấn_mạnh, trong, thư_điện_tử, :, “...</td>\n",
       "      <td>[B-NP, O, B-VP, B-PP, B-NP, O, O, B-VP, O, B-A...</td>\n",
       "    </tr>\n",
       "    <tr>\n",
       "      <th>3</th>\n",
       "      <td>[11, g, ngày, 11-9-2005, -, ngày, kỷ_niệm, bốn...</td>\n",
       "      <td>[B-NP, B-NP, B-NP, B-NP, O, B-NP, B-VP, B-NP, ...</td>\n",
       "    </tr>\n",
       "    <tr>\n",
       "      <th>4</th>\n",
       "      <td>[Ở, phi_trường, quốc_tế, Kuala_Lumpur, ,, ngườ...</td>\n",
       "      <td>[B-PP, B-NP, I-NP, I-NP, O, B-NP, B-NP, B-NP, ...</td>\n",
       "    </tr>\n",
       "    <tr>\n",
       "      <th>...</th>\n",
       "      <td>...</td>\n",
       "      <td>...</td>\n",
       "    </tr>\n",
       "    <tr>\n",
       "      <th>2129</th>\n",
       "      <td>[Vì_sao, ?, Lãnh_đạo, Cơ_quan, cảnh_sát, điều_...</td>\n",
       "      <td>[O, O, B-NP, B-NP, B-NP, B-VP, B-VP, O, B-PP, ...</td>\n",
       "    </tr>\n",
       "    <tr>\n",
       "      <th>2130</th>\n",
       "      <td>[Tin, bài, liên_quan, :, Viết, tiếp, về, vụ, a...</td>\n",
       "      <td>[B-NP, B-NP, B-VP, O, B-VP, B-VP, B-PP, B-NP, ...</td>\n",
       "    </tr>\n",
       "    <tr>\n",
       "      <th>2131</th>\n",
       "      <td>[Bộ_trưởng, ra, toà, làm, nhân_chứng, .]</td>\n",
       "      <td>[B-NP, B-VP, B-NP, B-VP, B-NP, O]</td>\n",
       "    </tr>\n",
       "    <tr>\n",
       "      <th>2132</th>\n",
       "      <td>[Chiều, 24-3, ,, bộ_trưởng, Bộ, Nông_nghiệp, v...</td>\n",
       "      <td>[B-NP, B-NP, O, B-NP, B-NP, I-NP, I-NP, I-NP, ...</td>\n",
       "    </tr>\n",
       "    <tr>\n",
       "      <th>2133</th>\n",
       "      <td>[Tháp_tùng, bộ_trưởng, Ngọ, là, một_số, cán_bộ...</td>\n",
       "      <td>[B-VP, B-NP, B-NP, B-VP, B-NP, B-NP, B-NP, B-N...</td>\n",
       "    </tr>\n",
       "  </tbody>\n",
       "</table>\n",
       "<p>2134 rows × 2 columns</p>\n",
       "</div>"
      ],
      "text/plain": [
       "                                                 tokens  \\\n",
       "0     [Đó, là, con, đường, biển, ngắn, nhất, để, đi,...   \n",
       "1     [Một, chuyến, hải_trình, xuyên, ba, nước, Mala...   \n",
       "2     [Ông, còn, nhấn_mạnh, trong, thư_điện_tử, :, “...   \n",
       "3     [11, g, ngày, 11-9-2005, -, ngày, kỷ_niệm, bốn...   \n",
       "4     [Ở, phi_trường, quốc_tế, Kuala_Lumpur, ,, ngườ...   \n",
       "...                                                 ...   \n",
       "2129  [Vì_sao, ?, Lãnh_đạo, Cơ_quan, cảnh_sát, điều_...   \n",
       "2130  [Tin, bài, liên_quan, :, Viết, tiếp, về, vụ, a...   \n",
       "2131           [Bộ_trưởng, ra, toà, làm, nhân_chứng, .]   \n",
       "2132  [Chiều, 24-3, ,, bộ_trưởng, Bộ, Nông_nghiệp, v...   \n",
       "2133  [Tháp_tùng, bộ_trưởng, Ngọ, là, một_số, cán_bộ...   \n",
       "\n",
       "                                               ner_tags  \n",
       "0     [B-NP, B-VP, B-NP, B-NP, B-NP, B-AP, B-AP, B-P...  \n",
       "1     [B-NP, B-NP, B-NP, B-VP, B-NP, B-NP, B-NP, O, ...  \n",
       "2     [B-NP, O, B-VP, B-PP, B-NP, O, O, B-VP, O, B-A...  \n",
       "3     [B-NP, B-NP, B-NP, B-NP, O, B-NP, B-VP, B-NP, ...  \n",
       "4     [B-PP, B-NP, I-NP, I-NP, O, B-NP, B-NP, B-NP, ...  \n",
       "...                                                 ...  \n",
       "2129  [O, O, B-NP, B-NP, B-NP, B-VP, B-VP, O, B-PP, ...  \n",
       "2130  [B-NP, B-NP, B-VP, O, B-VP, B-VP, B-PP, B-NP, ...  \n",
       "2131                  [B-NP, B-VP, B-NP, B-VP, B-NP, O]  \n",
       "2132  [B-NP, B-NP, O, B-NP, B-NP, I-NP, I-NP, I-NP, ...  \n",
       "2133  [B-VP, B-NP, B-NP, B-VP, B-NP, B-NP, B-NP, B-N...  \n",
       "\n",
       "[2134 rows x 2 columns]"
      ]
     },
     "execution_count": 149,
     "metadata": {},
     "output_type": "execute_result"
    }
   ],
   "source": [
    "tokens_list = []\n",
    "ner_tags_list = []\n",
    "\n",
    "# Tách các câu và chuyển đổi dữ liệu\n",
    "tokens = []\n",
    "ner_tags = []\n",
    "\n",
    "for index, row in data_train.iterrows():\n",
    "    tokens.append(row['Column1'])\n",
    "    ner_tags.append(row['Column3'])\n",
    "\n",
    "    if row['Column1'] == '.':\n",
    "        tokens_list.append(tokens)\n",
    "        ner_tags_list.append(ner_tags)\n",
    "        tokens = []\n",
    "        ner_tags = []\n",
    "\n",
    "# Nếu còn từ trong danh sách mà chưa gặp dấu chấm, thêm câu vào danh sách\n",
    "if tokens:\n",
    "    tokens_list.append(tokens)\n",
    "    ner_tags_list.append(ner_tags)\n",
    "\n",
    "# Tạo DataFrame từ các câu đã tách\n",
    "data_processed = {\n",
    "    'tokens': tokens_list,\n",
    "    'ner_tags': ner_tags_list\n",
    "}\n",
    "\n",
    "df_train = pd.DataFrame(data_processed)\n",
    "df_train\n"
   ]
  },
  {
   "cell_type": "markdown",
   "metadata": {},
   "source": [
    "# 2. Bài 1"
   ]
  },
  {
   "cell_type": "code",
   "execution_count": 150,
   "metadata": {},
   "outputs": [],
   "source": [
    "from sklearn.model_selection import train_test_split\n",
    "from underthesea import ner\n",
    "from sklearn.metrics import accuracy_score, precision_score, recall_score, f1_score\n",
    "import pandas as pd"
   ]
  },
  {
   "cell_type": "code",
   "execution_count": 151,
   "metadata": {},
   "outputs": [
    {
     "name": "stdout",
     "output_type": "stream",
     "text": [
      "accuracy: 0.9416\n",
      "precision: 0.9417\n",
      "recall: 0.9416\n",
      "F1-score: 0.9399\n"
     ]
    }
   ],
   "source": [
    "\n",
    "#Dự đoán nhãn từ dl đầu vào\n",
    "def predict_ner(text):\n",
    "    entities = ner(text)\n",
    "    predicted_tags = [entity[2] for entity in entities]\n",
    "    return predicted_tags\n",
    "\n",
    "# Đánh giá mô hình\n",
    "predicted_labels = []\n",
    "true_labels = []\n",
    "    \n",
    "for idx, row in df_test.iterrows():\n",
    "    tokens = row['tokens']\n",
    "    ner_tags = row['ner_tags']  # Đây là nhãn NER\n",
    "        \n",
    "    # Dự đoán nhãn thực thể\n",
    "    predicted_tags = predict_ner(\" \".join(tokens))\n",
    "        \n",
    "    # Kiểm tra độ dài\n",
    "    if len(predicted_tags) != len(ner_tags):\n",
    "        continue  # Bỏ qua các dòng dữ liệu không khớp độ dài\n",
    "        \n",
    "    predicted_labels.extend(predicted_tags)\n",
    "    true_labels.extend(ner_tags)\n",
    "    \n",
    "# Đảm bảo số lượng các nhãn thực thể là như nhau\n",
    "assert len(predicted_labels) == len(true_labels), \"Số lượng nhãn thực thể không khớp nhau\"\n",
    "    \n",
    "    \n",
    "# Tính toán các độ đo\n",
    "accuracy1 = accuracy_score(true_labels, predicted_labels)\n",
    "precision1 = precision_score(true_labels, predicted_labels, average='weighted')\n",
    "recall1 = recall_score(true_labels, predicted_labels, average='weighted')\n",
    "f1_1 = f1_score(true_labels, predicted_labels, average='weighted')\n",
    "    \n",
    "print(f\"accuracy: {accuracy1:.4f}\")\n",
    "print(f\"precision: {precision1:.4f}\")\n",
    "print(f\"recall: {recall1:.4f}\")\n",
    "print(f\"F1-score: {f1_1:.4f}\")\n"
   ]
  },
  {
   "cell_type": "markdown",
   "metadata": {},
   "source": [
    "### câu mới"
   ]
  },
  {
   "cell_type": "code",
   "execution_count": 214,
   "metadata": {},
   "outputs": [],
   "source": [
    "tokens = [\"Đó\", \"là\", \"con\", \"đường\", \"biển\", \"ngắn\", \"nhất\", \"để\", \"đi\", \"từ\", \"Ấn_Độ_Dương\", \"sang\", \"Thái_Bình_Dương\"]\n",
    "true = [\"B-NP\", \"B-VP\", \"B-NP\", \"B-NP\", \"B-NP\", \"B-AP\", \"B-AP\", \"B-PP\", \"B-VP\", \"B-PP\", \"B-NP\", \"B-VP\", \"B-NP\"]"
   ]
  },
  {
   "cell_type": "code",
   "execution_count": 215,
   "metadata": {},
   "outputs": [],
   "source": [
    "tokens_no_underscore = [token.replace('_', ' ') for token in tokens]"
   ]
  },
  {
   "cell_type": "code",
   "execution_count": 216,
   "metadata": {},
   "outputs": [
    {
     "name": "stdout",
     "output_type": "stream",
     "text": [
      "accuracy: 0.9231\n",
      "precision: 0.9231\n",
      "recall: 0.9231\n",
      "F1-score: 0.9231\n"
     ]
    }
   ],
   "source": [
    "predicted_tags = predict_ner(\" \".join(tokens))\n",
    "\n",
    "# Chuẩn hóa độ dài các nhãn dự đoán và nhãn thực tế\n",
    "max_len_new = max(len(true), len(predicted_tags))\n",
    "while len(predicted_tags)!=max_len_new:\n",
    "    for i in range(max_len_new):\n",
    "        if true[i]!=predicted_tags[i]:\n",
    "            predicted_tags.insert(i, predicted_tags[i])\n",
    "            break\n",
    "\n",
    "accuracy = accuracy_score(true, predicted_tags)\n",
    "precision = precision_score(true, predicted_tags, average='weighted')\n",
    "recall = recall_score(true, predicted_tags, average='weighted')\n",
    "f1 = f1_score(true, predicted_tags, average='weighted')\n",
    "    \n",
    "print(f\"accuracy: {accuracy:.4f}\")\n",
    "print(f\"precision: {accuracy:.4f}\")\n",
    "print(f\"recall: {accuracy:.4f}\")\n",
    "print(f\"F1-score: {accuracy:.4f}\")"
   ]
  },
  {
   "cell_type": "code",
   "execution_count": 217,
   "metadata": {},
   "outputs": [
    {
     "data": {
      "text/plain": [
       "['B-NP',\n",
       " 'B-VP',\n",
       " 'B-NP',\n",
       " 'B-NP',\n",
       " 'B-AP',\n",
       " 'B-AP',\n",
       " 'B-AP',\n",
       " 'B-PP',\n",
       " 'B-VP',\n",
       " 'B-PP',\n",
       " 'B-NP',\n",
       " 'B-VP',\n",
       " 'B-NP']"
      ]
     },
     "execution_count": 217,
     "metadata": {},
     "output_type": "execute_result"
    }
   ],
   "source": [
    "predicted_tags"
   ]
  },
  {
   "cell_type": "markdown",
   "metadata": {},
   "source": [
    "# 3. Bài 2"
   ]
  },
  {
   "cell_type": "markdown",
   "metadata": {},
   "source": [
    "## CRF"
   ]
  },
  {
   "cell_type": "code",
   "execution_count": 154,
   "metadata": {},
   "outputs": [],
   "source": [
    "# Trích xuất đặc trưng\n",
    "def word2features(doc, i):\n",
    "    word = doc['tokens'][i]\n",
    "    features = {\n",
    "        'word': word,\n",
    "        'is_first': i == 0,\n",
    "        'is_last': i == len(doc['tokens']) - 1,\n",
    "        'is_capitalized': word[0].upper() == word[0] if word else False,\n",
    "        'is_all_caps': word.upper() == word if word else False,\n",
    "        'is_all_lower': word.lower() == word if word else False,\n",
    "        'prefix-1': word[:1] if word else '',\n",
    "        'prefix-2': word[:2] if word else '',\n",
    "        'prefix-3': word[:3] if word else '',\n",
    "        'suffix-1': word[-1:] if word else '',\n",
    "        'suffix-2': word[-2:] if word else '',\n",
    "        'suffix-3': word[-3:] if word else '',\n",
    "        'prev_word': '' if i == 0 else doc['tokens'][i - 1],\n",
    "        'next_word': '' if i == len(doc['tokens']) - 1 else doc['tokens'][i + 1],\n",
    "    }\n",
    "    return features\n",
    "\n",
    "def extract_features(doc):\n",
    "    return [word2features(doc, i) for i in range(len(doc['tokens']))]\n",
    "\n",
    "def get_labels(doc):\n",
    "    return doc['ner_tags']\n",
    "\n",
    "X_train = [extract_features(doc) for _, doc in df_train.iterrows()]\n",
    "y_train = [get_labels(doc) for _, doc in df_train.iterrows()]\n",
    "\n",
    "X_test = [extract_features(doc) for _, doc in df_test.iterrows()]\n",
    "y_test = [get_labels(doc) for _, doc in df_test.iterrows()]\n"
   ]
  },
  {
   "cell_type": "code",
   "execution_count": 155,
   "metadata": {},
   "outputs": [
    {
     "data": {
      "text/html": [
       "<style>#sk-container-id-9 {color: black;background-color: white;}#sk-container-id-9 pre{padding: 0;}#sk-container-id-9 div.sk-toggleable {background-color: white;}#sk-container-id-9 label.sk-toggleable__label {cursor: pointer;display: block;width: 100%;margin-bottom: 0;padding: 0.3em;box-sizing: border-box;text-align: center;}#sk-container-id-9 label.sk-toggleable__label-arrow:before {content: \"▸\";float: left;margin-right: 0.25em;color: #696969;}#sk-container-id-9 label.sk-toggleable__label-arrow:hover:before {color: black;}#sk-container-id-9 div.sk-estimator:hover label.sk-toggleable__label-arrow:before {color: black;}#sk-container-id-9 div.sk-toggleable__content {max-height: 0;max-width: 0;overflow: hidden;text-align: left;background-color: #f0f8ff;}#sk-container-id-9 div.sk-toggleable__content pre {margin: 0.2em;color: black;border-radius: 0.25em;background-color: #f0f8ff;}#sk-container-id-9 input.sk-toggleable__control:checked~div.sk-toggleable__content {max-height: 200px;max-width: 100%;overflow: auto;}#sk-container-id-9 input.sk-toggleable__control:checked~label.sk-toggleable__label-arrow:before {content: \"▾\";}#sk-container-id-9 div.sk-estimator input.sk-toggleable__control:checked~label.sk-toggleable__label {background-color: #d4ebff;}#sk-container-id-9 div.sk-label input.sk-toggleable__control:checked~label.sk-toggleable__label {background-color: #d4ebff;}#sk-container-id-9 input.sk-hidden--visually {border: 0;clip: rect(1px 1px 1px 1px);clip: rect(1px, 1px, 1px, 1px);height: 1px;margin: -1px;overflow: hidden;padding: 0;position: absolute;width: 1px;}#sk-container-id-9 div.sk-estimator {font-family: monospace;background-color: #f0f8ff;border: 1px dotted black;border-radius: 0.25em;box-sizing: border-box;margin-bottom: 0.5em;}#sk-container-id-9 div.sk-estimator:hover {background-color: #d4ebff;}#sk-container-id-9 div.sk-parallel-item::after {content: \"\";width: 100%;border-bottom: 1px solid gray;flex-grow: 1;}#sk-container-id-9 div.sk-label:hover label.sk-toggleable__label {background-color: #d4ebff;}#sk-container-id-9 div.sk-serial::before {content: \"\";position: absolute;border-left: 1px solid gray;box-sizing: border-box;top: 0;bottom: 0;left: 50%;z-index: 0;}#sk-container-id-9 div.sk-serial {display: flex;flex-direction: column;align-items: center;background-color: white;padding-right: 0.2em;padding-left: 0.2em;position: relative;}#sk-container-id-9 div.sk-item {position: relative;z-index: 1;}#sk-container-id-9 div.sk-parallel {display: flex;align-items: stretch;justify-content: center;background-color: white;position: relative;}#sk-container-id-9 div.sk-item::before, #sk-container-id-9 div.sk-parallel-item::before {content: \"\";position: absolute;border-left: 1px solid gray;box-sizing: border-box;top: 0;bottom: 0;left: 50%;z-index: -1;}#sk-container-id-9 div.sk-parallel-item {display: flex;flex-direction: column;z-index: 1;position: relative;background-color: white;}#sk-container-id-9 div.sk-parallel-item:first-child::after {align-self: flex-end;width: 50%;}#sk-container-id-9 div.sk-parallel-item:last-child::after {align-self: flex-start;width: 50%;}#sk-container-id-9 div.sk-parallel-item:only-child::after {width: 0;}#sk-container-id-9 div.sk-dashed-wrapped {border: 1px dashed gray;margin: 0 0.4em 0.5em 0.4em;box-sizing: border-box;padding-bottom: 0.4em;background-color: white;}#sk-container-id-9 div.sk-label label {font-family: monospace;font-weight: bold;display: inline-block;line-height: 1.2em;}#sk-container-id-9 div.sk-label-container {text-align: center;}#sk-container-id-9 div.sk-container {/* jupyter's `normalize.less` sets `[hidden] { display: none; }` but bootstrap.min.css set `[hidden] { display: none !important; }` so we also need the `!important` here to be able to override the default hidden behavior on the sphinx rendered scikit-learn.org. See: https://github.com/scikit-learn/scikit-learn/issues/21755 */display: inline-block !important;position: relative;}#sk-container-id-9 div.sk-text-repr-fallback {display: none;}</style><div id=\"sk-container-id-9\" class=\"sk-top-container\"><div class=\"sk-text-repr-fallback\"><pre>CRF(algorithm=&#x27;lbfgs&#x27;, all_possible_transitions=False, c1=0.5, c2=0.5,\n",
       "    max_iterations=100)</pre><b>In a Jupyter environment, please rerun this cell to show the HTML representation or trust the notebook. <br />On GitHub, the HTML representation is unable to render, please try loading this page with nbviewer.org.</b></div><div class=\"sk-container\" hidden><div class=\"sk-item\"><div class=\"sk-estimator sk-toggleable\"><input class=\"sk-toggleable__control sk-hidden--visually\" id=\"sk-estimator-id-9\" type=\"checkbox\" checked><label for=\"sk-estimator-id-9\" class=\"sk-toggleable__label sk-toggleable__label-arrow\">CRF</label><div class=\"sk-toggleable__content\"><pre>CRF(algorithm=&#x27;lbfgs&#x27;, all_possible_transitions=False, c1=0.5, c2=0.5,\n",
       "    max_iterations=100)</pre></div></div></div></div></div>"
      ],
      "text/plain": [
       "CRF(algorithm='lbfgs', all_possible_transitions=False, c1=0.5, c2=0.5,\n",
       "    max_iterations=100)"
      ]
     },
     "execution_count": 155,
     "metadata": {},
     "output_type": "execute_result"
    }
   ],
   "source": [
    "from sklearn_crfsuite import CRF\n",
    "\n",
    "# Khởi tạo mô hình CRF\n",
    "crf = CRF(\n",
    "    algorithm='lbfgs',\n",
    "    c1=0.5,\n",
    "    c2=0.5,\n",
    "    max_iterations=100,\n",
    "    all_possible_transitions=False\n",
    ")\n",
    "\n",
    "# Huấn luyện mô hình CRF\n",
    "crf.fit(X_train, y_train)"
   ]
  },
  {
   "cell_type": "code",
   "execution_count": 156,
   "metadata": {},
   "outputs": [
    {
     "name": "stdout",
     "output_type": "stream",
     "text": [
      "              precision    recall  f1-score   support\n",
      "\n",
      "        B-AP       0.97      0.93      0.95        30\n",
      "        B-NP       1.00      1.00      1.00        35\n",
      "        B-PP       1.00      1.00      1.00        25\n",
      "        B-VP       1.00      1.00      1.00        34\n",
      "        I-NP       1.00      1.00      1.00         5\n",
      "           O       1.00      1.00      1.00        35\n",
      "\n",
      "   micro avg       0.99      0.99      0.99       164\n",
      "   macro avg       0.99      0.99      0.99       164\n",
      "weighted avg       0.99      0.99      0.99       164\n",
      " samples avg       0.99      0.99      0.99       164\n",
      "\n",
      "Accuracy: 0.9143\n",
      "Precision: 0.9937\n",
      "Recall: 0.9878\n",
      "F1-score: 0.9907\n"
     ]
    }
   ],
   "source": [
    "from sklearn.metrics import classification_report, accuracy_score, precision_score, recall_score, f1_score\n",
    "from sklearn.preprocessing import MultiLabelBinarizer\n",
    "\n",
    "y_pred = crf.predict(X_test)\n",
    "\n",
    "# Chuyển đổi nhãn dữ liệu sang dạng số\n",
    "mlb = MultiLabelBinarizer()\n",
    "y_test_bin = mlb.fit_transform(y_test)\n",
    "y_pred_bin = mlb.transform(y_pred)\n",
    "\n",
    "# Classification report\n",
    "report = classification_report(y_test_bin, y_pred_bin, target_names=mlb.classes_)\n",
    "print(report)\n",
    "\n",
    "# Đánh giá kết quả\n",
    "accuracy2 = accuracy_score(y_test_bin, y_pred_bin)\n",
    "precision2 = precision_score(y_test_bin, y_pred_bin, average='weighted')\n",
    "recall2 = recall_score(y_test_bin, y_pred_bin, average='weighted')\n",
    "f1_2 = f1_score(y_test_bin, y_pred_bin, average='weighted')\n",
    "\n",
    "print(f\"Accuracy: {accuracy2:.4f}\")\n",
    "print(f\"Precision: {precision2:.4f}\")\n",
    "print(f\"Recall: {recall2:.4f}\")\n",
    "print(f\"F1-score: {f1_2:.4f}\")"
   ]
  },
  {
   "cell_type": "markdown",
   "metadata": {},
   "source": [
    "### câu mới"
   ]
  },
  {
   "cell_type": "code",
   "execution_count": 164,
   "metadata": {},
   "outputs": [
    {
     "name": "stdout",
     "output_type": "stream",
     "text": [
      "Tokens: ['Đó', 'là', 'con', 'đường', 'biển', 'ngắn', 'nhất', 'để', 'đi', 'từ', 'Ấn_Độ_Dương', 'sang', 'Thái_Bình_Dương']\n",
      "True NER tags: ['B-NP', 'B-VP', 'B-NP', 'B-NP', 'B-NP', 'B-AP', 'B-AP', 'B-PP', 'B-VP', 'B-PP', 'B-NP', 'B-VP', 'B-NP']\n",
      "Predicted NER tags: ['B-NP', 'B-VP', 'B-NP', 'B-NP', 'B-NP', 'B-AP', 'B-AP', 'B-PP', 'B-VP', 'B-PP', 'B-NP', 'B-VP', 'B-NP']\n",
      "              precision    recall  f1-score   support\n",
      "\n",
      "           -       1.00      1.00      1.00        13\n",
      "           A       1.00      1.00      1.00         2\n",
      "           B       1.00      1.00      1.00        13\n",
      "           N       1.00      1.00      1.00         6\n",
      "           P       1.00      1.00      1.00        13\n",
      "           V       1.00      1.00      1.00         3\n",
      "\n",
      "   micro avg       1.00      1.00      1.00        50\n",
      "   macro avg       1.00      1.00      1.00        50\n",
      "weighted avg       1.00      1.00      1.00        50\n",
      " samples avg       1.00      1.00      1.00        50\n",
      "\n",
      "Accuracy: 1.0000\n",
      "Precision: 1.0000\n",
      "Recall: 1.0000\n",
      "F1-score: 1.0000\n"
     ]
    }
   ],
   "source": [
    "# Tạo dữ liệu đầu vào cho câu mới\n",
    "doc_new = {'tokens': tokens}\n",
    "X_new = extract_features(doc_new)\n",
    "\n",
    "# Dự đoán nhãn thực thể cho câu mới\n",
    "predicted_tags_new_sentence = crf.predict_single(X_new)\n",
    "print(f\"Tokens: {tokens}\")\n",
    "print(f\"True NER tags: {true}\")\n",
    "print(f\"Predicted NER tags: {predicted_tags_new_sentence}\")\n",
    "# Chuyển đổi nhãn dữ liệu sang dạng số\n",
    "mlb = MultiLabelBinarizer()\n",
    "y_test_bin = mlb.fit_transform(true)\n",
    "y_pred_bin = mlb.transform(predicted_tags_new_sentence)\n",
    "\n",
    "# Classification report\n",
    "report = classification_report(y_test_bin, y_pred_bin, target_names=mlb.classes_)\n",
    "print(report)\n",
    "\n",
    "# Đánh giá kết quả\n",
    "accuracy2 = accuracy_score(y_test_bin, y_pred_bin)\n",
    "precision2 = precision_score(y_test_bin, y_pred_bin, average='weighted')\n",
    "recall2 = recall_score(y_test_bin, y_pred_bin, average='weighted')\n",
    "f1_2 = f1_score(y_test_bin, y_pred_bin, average='weighted')\n",
    "\n",
    "print(f\"Accuracy: {accuracy2:.4f}\")\n",
    "print(f\"Precision: {precision2:.4f}\")\n",
    "print(f\"Recall: {recall2:.4f}\")\n",
    "print(f\"F1-score: {f1_2:.4f}\")"
   ]
  },
  {
   "cell_type": "code",
   "execution_count": 165,
   "metadata": {},
   "outputs": [
    {
     "data": {
      "text/plain": [
       "{'tokens': ['Đó',\n",
       "  'là',\n",
       "  'con',\n",
       "  'đường',\n",
       "  'biển',\n",
       "  'ngắn',\n",
       "  'nhất',\n",
       "  'để',\n",
       "  'đi',\n",
       "  'từ',\n",
       "  'Ấn_Độ_Dương',\n",
       "  'sang',\n",
       "  'Thái_Bình_Dương']}"
      ]
     },
     "execution_count": 165,
     "metadata": {},
     "output_type": "execute_result"
    }
   ],
   "source": [
    "doc_new"
   ]
  },
  {
   "cell_type": "markdown",
   "metadata": {},
   "source": [
    "# 4. Vẽ biểu đồ"
   ]
  },
  {
   "cell_type": "code",
   "execution_count": 97,
   "metadata": {},
   "outputs": [],
   "source": [
    "import matplotlib.pyplot as plt\n",
    "import numpy as np"
   ]
  },
  {
   "cell_type": "code",
   "execution_count": 98,
   "metadata": {},
   "outputs": [
    {
     "data": {
      "image/png": "[encoded data removed]",
      "text/plain": [
       "<Figure size 1000x600 with 1 Axes>"
      ]
     },
     "metadata": {},
     "output_type": "display_data"
    }
   ],
   "source": [
    "# Danh sách các độ đo và giá trị tương ứng cho từng bài tập\n",
    "metrics = ['Accuracy', 'Precision', 'Recall', 'F1 Score']\n",
    "bai1_scores = [accuracy1, precision1, recall1, f1_1]\n",
    "bai2_scores = [accuracy2, precision2, recall2, f1_2]\n",
    "\n",
    "# Chỉ số cho biểu đồ\n",
    "x = np.arange(len(metrics))\n",
    "width = 0.35\n",
    "\n",
    "# Vẽ biểu đồ\n",
    "fig, ax = plt.subplots(figsize=(10, 6))\n",
    "\n",
    "rects1 = ax.bar(x - width/2, bai1_scores, width, label='Bai 1')\n",
    "rects2 = ax.bar(x + width/2, bai2_scores, width, label='Bai 2')\n",
    "\n",
    "# Thêm nhãn trục x và y\n",
    "ax.set_xlabel('Scores')\n",
    "ax.set_ylabel('Values')\n",
    "ax.set_xticks(x)\n",
    "ax.set_xticklabels(metrics)\n",
    "ax.legend()\n",
    "\n",
    "# Thêm giá trị trên cột\n",
    "def autolabel(rects):\n",
    "    for rect in rects:\n",
    "        height = rect.get_height()\n",
    "        ax.annotate('%.4f' % height,\n",
    "                    xy=(rect.get_x() + rect.get_width() / 2, height),\n",
    "                    xytext=(0, 3),  # 3 points vertical offset\n",
    "                    textcoords=\"offset points\",\n",
    "                    ha='center', va='bottom')\n",
    "\n",
    "autolabel(rects1)\n",
    "autolabel(rects2)\n",
    "\n",
    "# Hiển thị biểu đồ\n",
    "plt.show()"
   ]
  }
 ],
 "metadata": {
  "kernelspec": {
   "display_name": "base",
   "language": "python",
   "name": "python3"
  },
  "language_info": {
   "codemirror_mode": {
    "name": "ipython",
    "version": 3
   },
   "file_extension": ".py",
   "mimetype": "text/x-python",
   "name": "python",
   "nbconvert_exporter": "python",
   "pygments_lexer": "ipython3",
   "version": "3.11.8"
  }
 },
 "nbformat": 4,
 "nbformat_minor": 2
}
